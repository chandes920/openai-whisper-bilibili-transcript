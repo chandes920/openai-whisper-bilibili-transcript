{
 "cells": [
  {
   "cell_type": "code",
   "execution_count": 32,
   "id": "b871652e",
   "metadata": {},
   "outputs": [],
   "source": [
    "from utils import (mp4_to_mp3,\n",
    "                   mp3_duration,\n",
    "                   split_mp3,\n",
    "                   split_mp4,\n",
    "                   adjust_volume,\n",
    "                   clean_background_noise,\n",
    "                   calculate_average_decibels,\n",
    "                   translate_japanese_to_chinese,\n",
    "                   combine_outputs,\n",
    "                   create_working_dir,\n",
    "                   delete_working_files)"
   ]
  },
  {
   "cell_type": "code",
   "execution_count": 33,
   "id": "857202ce",
   "metadata": {},
   "outputs": [
    {
     "name": "stdout",
     "output_type": "stream",
     "text": [
      "MoviePy - Writing audio in C:\\Users\\chany\\Desktop\\openai\\1246733297-1-192\\1246733297-1-192.mp3\n"
     ]
    },
    {
     "name": "stderr",
     "output_type": "stream",
     "text": [
      "                                                                                                                       \r"
     ]
    },
    {
     "name": "stdout",
     "output_type": "stream",
     "text": [
      "MoviePy - Done.\n"
     ]
    }
   ],
   "source": [
    "import os\n",
    "\n",
    "mp4_name = \"1246733297-1-192.mp4\"\n",
    "file_name = mp4_name.strip(\".mp4\")\n",
    "\n",
    "create_working_dir(file_name, mp4_name)\n",
    "\n",
    "current_dir = os.getcwd()\n",
    "\n",
    "mp4 = os.path.join(current_dir, file_name, f\"{file_name}.mp4\")\n",
    "mp3 = os.path.join(current_dir, file_name, f\"{file_name}.mp3\")\n",
    "mp4_to_mp3(mp4, mp3)"
   ]
  },
  {
   "cell_type": "code",
   "execution_count": 34,
   "id": "48ecf39b",
   "metadata": {},
   "outputs": [],
   "source": [
    "file_path = mp4.strip('.mp4')"
   ]
  },
  {
   "cell_type": "code",
   "execution_count": 36,
   "id": "feb68683",
   "metadata": {},
   "outputs": [
    {
     "name": "stdout",
     "output_type": "stream",
     "text": [
      "Collecting opencv-python\n",
      "  Downloading opencv_python-4.8.0.76-cp37-abi3-win_amd64.whl (38.1 MB)\n",
      "Requirement already satisfied: numpy>=1.17.3 in c:\\users\\chany\\anaconda3\\lib\\site-packages (from opencv-python) (1.22.4)\n",
      "Installing collected packages: opencv-python\n",
      "Successfully installed opencv-python-4.8.0.76\n"
     ]
    }
   ],
   "source": [
    "!pip install opencv-python"
   ]
  },
  {
   "cell_type": "code",
   "execution_count": 29,
   "id": "dd61607e",
   "metadata": {},
   "outputs": [],
   "source": [
    "# import math\n",
    "\n",
    "# total_duration = mp3_duration(mp3)\n",
    "# duration_per_split = 600\n",
    "# num_splits = math.ceil(total_duration/duration_per_split)\n",
    "\n",
    "# for i in range(1, 1 + num_splits):\n",
    "#     start = (i - 1) * duration_per_split\n",
    "#     duration = min(duration_per_split, math.floor(total_duration) - start)\n",
    "#     end = start + duration\n",
    "    \n",
    "#     output_file_mp3 = f\"{file_path}_part_{i}.mp3\"\n",
    "#     split_mp3(f\"{file_path}_adjusted.mp3\", start, end, output_file_mp3)\n",
    "    \n",
    "#     output_file_mp4 = f\"{file_path}_part_{i}.mp4\"\n",
    "#     split_mp4(mp4, start, end, output_file_mp4)"
   ]
  },
  {
   "cell_type": "code",
   "execution_count": null,
   "id": "524d9499",
   "metadata": {},
   "outputs": [],
   "source": [
    "# import pandas as pd\n",
    "\n",
    "# import whisper\n",
    "# model = whisper.load_model(\"medium\")\n",
    "\n",
    "# result_dict = {}\n",
    "\n",
    "# for i in range(1, 1 + num_splits):\n",
    "#     result = model.transcribe(language=\"ja\", audio=f\"{file_path}_part_{i}.mp3\")\n",
    "#     df = pd.DataFrame.from_dict(result['segments'])\n",
    "#     result_dict[i] = df"
   ]
  },
  {
   "cell_type": "code",
   "execution_count": 9,
   "id": "08620409",
   "metadata": {},
   "outputs": [],
   "source": [
    "import pickle\n",
    "with open('result_dict.pickle', 'rb') as pickle_file:\n",
    "    result_dict = pickle.load(pickle_file)"
   ]
  },
  {
   "cell_type": "code",
   "execution_count": 17,
   "id": "f182ffb5",
   "metadata": {},
   "outputs": [],
   "source": [
    "for key, speech in result_dict.items():\n",
    "    speech['text_translated'] = speech['text'].apply(lambda x: translate_japanese_to_chinese(x))"
   ]
  },
  {
   "cell_type": "code",
   "execution_count": 18,
   "id": "d4e4f489",
   "metadata": {},
   "outputs": [],
   "source": [
    "subs_dict = {}\n",
    "\n",
    "for key, speech in result_dict.items():\n",
    "    subs = []\n",
    "    for index, row in speech.iterrows():\n",
    "        start = row['start']\n",
    "        end = row['end']\n",
    "        text = row['text_translated']\n",
    "        subs.append(((start, end), text))\n",
    "    subs_dict[key] = subs"
   ]
  },
  {
   "cell_type": "code",
   "execution_count": null,
   "id": "6feb676b",
   "metadata": {},
   "outputs": [],
   "source": [
    "from moviepy.editor import *\n",
    "from moviepy.video.tools.subtitles import SubtitlesClip\n",
    "\n",
    "generator = lambda txt: TextClip(txt, font='Microsoft-JhengHei-Bold-&-Microsoft-JhengHei-UI-Bold', fontsize=40, color='yellow', stroke_color='black')\n",
    "\n",
    "subtitles = SubtitlesClip(subs, generator)\n",
    "\n",
    "video = VideoFileClip(f\"{file_path}.mp4\")\n",
    "result = CompositeVideoClip([video, subtitles.set_pos(('center','bottom'))])\n",
    "\n",
    "result.write_videofile(f\"{file_path}_output.mp4\", fps=video.fps, temp_audiofile=f\"temp-audio.m4a\", remove_temp=True, codec=\"libx264\", audio_codec=\"aac\")"
   ]
  },
  {
   "cell_type": "code",
   "execution_count": 20,
   "id": "88bcf466",
   "metadata": {},
   "outputs": [
    {
     "name": "stdout",
     "output_type": "stream",
     "text": [
      "Moviepy - Building video C:\\Users\\chany\\Desktop\\openai\\1255263939-1-192\\1255263939-1-192_output_part_1.mp4.\n",
      "MoviePy - Writing audio in temp-audio-part-1.m4a\n"
     ]
    },
    {
     "name": "stderr",
     "output_type": "stream",
     "text": [
      "                                                                                                                       \r"
     ]
    },
    {
     "name": "stdout",
     "output_type": "stream",
     "text": [
      "MoviePy - Done.\n",
      "Moviepy - Writing video C:\\Users\\chany\\Desktop\\openai\\1255263939-1-192\\1255263939-1-192_output_part_1.mp4\n",
      "\n"
     ]
    },
    {
     "name": "stderr",
     "output_type": "stream",
     "text": [
      "                                                                                                                       \r"
     ]
    },
    {
     "name": "stdout",
     "output_type": "stream",
     "text": [
      "Moviepy - Done !\n",
      "Moviepy - video ready C:\\Users\\chany\\Desktop\\openai\\1255263939-1-192\\1255263939-1-192_output_part_1.mp4\n",
      "Moviepy - Building video C:\\Users\\chany\\Desktop\\openai\\1255263939-1-192\\1255263939-1-192_output_part_2.mp4.\n",
      "MoviePy - Writing audio in temp-audio-part-2.m4a\n"
     ]
    },
    {
     "name": "stderr",
     "output_type": "stream",
     "text": [
      "                                                                                                                       \r"
     ]
    },
    {
     "name": "stdout",
     "output_type": "stream",
     "text": [
      "MoviePy - Done.\n",
      "Moviepy - Writing video C:\\Users\\chany\\Desktop\\openai\\1255263939-1-192\\1255263939-1-192_output_part_2.mp4\n",
      "\n"
     ]
    },
    {
     "name": "stderr",
     "output_type": "stream",
     "text": [
      "                                                                                                                       \r"
     ]
    },
    {
     "name": "stdout",
     "output_type": "stream",
     "text": [
      "Moviepy - Done !\n",
      "Moviepy - video ready C:\\Users\\chany\\Desktop\\openai\\1255263939-1-192\\1255263939-1-192_output_part_2.mp4\n",
      "Moviepy - Building video C:\\Users\\chany\\Desktop\\openai\\1255263939-1-192\\1255263939-1-192_output_part_3.mp4.\n",
      "MoviePy - Writing audio in temp-audio-part-3.m4a\n"
     ]
    },
    {
     "name": "stderr",
     "output_type": "stream",
     "text": [
      "                                                                                                                       \r"
     ]
    },
    {
     "name": "stdout",
     "output_type": "stream",
     "text": [
      "MoviePy - Done.\n",
      "Moviepy - Writing video C:\\Users\\chany\\Desktop\\openai\\1255263939-1-192\\1255263939-1-192_output_part_3.mp4\n",
      "\n"
     ]
    },
    {
     "name": "stderr",
     "output_type": "stream",
     "text": [
      "                                                                                                                       \r"
     ]
    },
    {
     "name": "stdout",
     "output_type": "stream",
     "text": [
      "Moviepy - Done !\n",
      "Moviepy - video ready C:\\Users\\chany\\Desktop\\openai\\1255263939-1-192\\1255263939-1-192_output_part_3.mp4\n"
     ]
    }
   ],
   "source": [
    "# from moviepy.editor import *\n",
    "# from moviepy.video.tools.subtitles import SubtitlesClip\n",
    "\n",
    "# generator = lambda txt: TextClip(txt, font='Microsoft-JhengHei-Bold-&-Microsoft-JhengHei-UI-Bold', fontsize=40, color='yellow', stroke_color='black')\n",
    "\n",
    "# for key, subs in subs_dict.items():\n",
    "\n",
    "#     subtitles = SubtitlesClip(subs, generator)\n",
    "\n",
    "#     video = VideoFileClip(f\"{file_path}_part_{key}.mp4\")\n",
    "#     result = CompositeVideoClip([video, subtitles.set_pos(('center','bottom'))])\n",
    "\n",
    "#     result.write_videofile(f\"{file_path}_output_part_{key}.mp4\", fps=video.fps, temp_audiofile=f\"temp-audio-part-{key}.m4a\", remove_temp=True, codec=\"libx264\", audio_codec=\"aac\")"
   ]
  },
  {
   "cell_type": "code",
   "execution_count": 30,
   "id": "93bb951a",
   "metadata": {},
   "outputs": [
    {
     "name": "stdout",
     "output_type": "stream",
     "text": [
      "Moviepy - Building video C:\\Users\\chany\\Desktop\\openai\\1255263939-1-192\\1255263939-1-192_output.mp4.\n",
      "MoviePy - Writing audio in 1255263939-1-192_outputTEMP_MPY_wvf_snd.mp3\n"
     ]
    },
    {
     "name": "stderr",
     "output_type": "stream",
     "text": [
      "                                                                                                                       \r"
     ]
    },
    {
     "name": "stdout",
     "output_type": "stream",
     "text": [
      "MoviePy - Done.\n",
      "Moviepy - Writing video C:\\Users\\chany\\Desktop\\openai\\1255263939-1-192\\1255263939-1-192_output.mp4\n",
      "\n"
     ]
    },
    {
     "name": "stderr",
     "output_type": "stream",
     "text": [
      "                                                                                                                       \r"
     ]
    },
    {
     "name": "stdout",
     "output_type": "stream",
     "text": [
      "Moviepy - Done !\n",
      "Moviepy - video ready C:\\Users\\chany\\Desktop\\openai\\1255263939-1-192\\1255263939-1-192_output.mp4\n"
     ]
    }
   ],
   "source": [
    "# output_list = []\n",
    "\n",
    "# for i in range(1, 1 + num_splits):\n",
    "#     output_list.append(f\"{file_path}_output_part_{i}.mp4\")\n",
    "    \n",
    "# combine_outputs(file_path, output_list)"
   ]
  },
  {
   "cell_type": "code",
   "execution_count": 19,
   "id": "3e402f4e",
   "metadata": {},
   "outputs": [
    {
     "name": "stdout",
     "output_type": "stream",
     "text": [
      "File 'C:\\Users\\chany\\Desktop\\openai\\1255263939-1-192\\1255263939-1-192_output_part_1.mp4' has been successfully deleted.\n",
      "File 'C:\\Users\\chany\\Desktop\\openai\\1255263939-1-192\\1255263939-1-192_part_1.mp4' has been successfully deleted.\n",
      "File 'C:\\Users\\chany\\Desktop\\openai\\1255263939-1-192\\1255263939-1-192_part_1.mp3' does not exist.\n",
      "File 'C:\\Users\\chany\\Desktop\\openai\\1255263939-1-192\\1255263939-1-192_output_part_2.mp4' has been successfully deleted.\n",
      "File 'C:\\Users\\chany\\Desktop\\openai\\1255263939-1-192\\1255263939-1-192_part_2.mp4' has been successfully deleted.\n",
      "File 'C:\\Users\\chany\\Desktop\\openai\\1255263939-1-192\\1255263939-1-192_part_2.mp3' does not exist.\n",
      "File 'C:\\Users\\chany\\Desktop\\openai\\1255263939-1-192\\1255263939-1-192_output_part_3.mp4' has been successfully deleted.\n",
      "File 'C:\\Users\\chany\\Desktop\\openai\\1255263939-1-192\\1255263939-1-192_part_3.mp4' has been successfully deleted.\n",
      "File 'C:\\Users\\chany\\Desktop\\openai\\1255263939-1-192\\1255263939-1-192_part_3.mp3' does not exist.\n"
     ]
    },
    {
     "ename": "PermissionError",
     "evalue": "[WinError 32] The process cannot access the file because it is being used by another process: 'C:\\\\Users\\\\chany\\\\Desktop\\\\openai\\\\1255263939-1-192\\\\1255263939-1-192.mp3'",
     "output_type": "error",
     "traceback": [
      "\u001b[1;31m---------------------------------------------------------------------------\u001b[0m",
      "\u001b[1;31mPermissionError\u001b[0m                           Traceback (most recent call last)",
      "\u001b[1;32m<ipython-input-19-5d9db4580353>\u001b[0m in \u001b[0;36m<module>\u001b[1;34m\u001b[0m\n\u001b[0;32m      4\u001b[0m     \u001b[0mdelete_working_files\u001b[0m\u001b[1;33m(\u001b[0m\u001b[1;34mf\"{file_path}_part_{i}.mp3\"\u001b[0m\u001b[1;33m)\u001b[0m\u001b[1;33m\u001b[0m\u001b[1;33m\u001b[0m\u001b[0m\n\u001b[0;32m      5\u001b[0m \u001b[1;33m\u001b[0m\u001b[0m\n\u001b[1;32m----> 6\u001b[1;33m \u001b[0mdelete_working_files\u001b[0m\u001b[1;33m(\u001b[0m\u001b[1;34mf\"{file_path}.mp3\"\u001b[0m\u001b[1;33m)\u001b[0m\u001b[1;33m\u001b[0m\u001b[1;33m\u001b[0m\u001b[0m\n\u001b[0m\u001b[0;32m      7\u001b[0m \u001b[0mdelete_working_files\u001b[0m\u001b[1;33m(\u001b[0m\u001b[1;34mf\"{file_path}.mp4\"\u001b[0m\u001b[1;33m)\u001b[0m\u001b[1;33m\u001b[0m\u001b[1;33m\u001b[0m\u001b[0m\n\u001b[0;32m      8\u001b[0m \u001b[0mdelete_working_files\u001b[0m\u001b[1;33m(\u001b[0m\u001b[1;34mf\"{file_path}_adjusted.mp3\"\u001b[0m\u001b[1;33m)\u001b[0m\u001b[1;33m\u001b[0m\u001b[1;33m\u001b[0m\u001b[0m\n",
      "\u001b[1;32m~\\Desktop\\openai\\utils.py\u001b[0m in \u001b[0;36mdelete_working_files\u001b[1;34m(file_path)\u001b[0m\n\u001b[0;32m    124\u001b[0m     \u001b[1;32mif\u001b[0m \u001b[0mos\u001b[0m\u001b[1;33m.\u001b[0m\u001b[0mpath\u001b[0m\u001b[1;33m.\u001b[0m\u001b[0mexists\u001b[0m\u001b[1;33m(\u001b[0m\u001b[0mfile_path\u001b[0m\u001b[1;33m)\u001b[0m\u001b[1;33m:\u001b[0m\u001b[1;33m\u001b[0m\u001b[1;33m\u001b[0m\u001b[0m\n\u001b[0;32m    125\u001b[0m         \u001b[1;31m# Remove the file\u001b[0m\u001b[1;33m\u001b[0m\u001b[1;33m\u001b[0m\u001b[1;33m\u001b[0m\u001b[0m\n\u001b[1;32m--> 126\u001b[1;33m         \u001b[0mos\u001b[0m\u001b[1;33m.\u001b[0m\u001b[0mremove\u001b[0m\u001b[1;33m(\u001b[0m\u001b[0mfile_path\u001b[0m\u001b[1;33m)\u001b[0m\u001b[1;33m\u001b[0m\u001b[1;33m\u001b[0m\u001b[0m\n\u001b[0m\u001b[0;32m    127\u001b[0m         \u001b[0mprint\u001b[0m\u001b[1;33m(\u001b[0m\u001b[1;34mf\"File '{file_path}' has been successfully deleted.\"\u001b[0m\u001b[1;33m)\u001b[0m\u001b[1;33m\u001b[0m\u001b[1;33m\u001b[0m\u001b[0m\n\u001b[0;32m    128\u001b[0m     \u001b[1;32melse\u001b[0m\u001b[1;33m:\u001b[0m\u001b[1;33m\u001b[0m\u001b[1;33m\u001b[0m\u001b[0m\n",
      "\u001b[1;31mPermissionError\u001b[0m: [WinError 32] The process cannot access the file because it is being used by another process: 'C:\\\\Users\\\\chany\\\\Desktop\\\\openai\\\\1255263939-1-192\\\\1255263939-1-192.mp3'"
     ]
    }
   ],
   "source": [
    "# for i in range(1, 1 + num_splits):\n",
    "#     delete_working_files(f\"{file_path}_output_part_{i}.mp4\")\n",
    "#     delete_working_files(f\"{file_path}_part_{i}.mp4\")\n",
    "#     delete_working_files(f\"{file_path}_part_{i}.mp3\")\n",
    "    \n",
    "# delete_working_files(f\"{file_path}.mp3\")\n",
    "# delete_working_files(f\"{file_path}.mp4\")\n",
    "# delete_working_files(f\"{file_path}_adjusted.mp3\")"
   ]
  }
 ],
 "metadata": {
  "kernelspec": {
   "display_name": "Python 3",
   "language": "python",
   "name": "python3"
  },
  "language_info": {
   "codemirror_mode": {
    "name": "ipython",
    "version": 3
   },
   "file_extension": ".py",
   "mimetype": "text/x-python",
   "name": "python",
   "nbconvert_exporter": "python",
   "pygments_lexer": "ipython3",
   "version": "3.8.8"
  }
 },
 "nbformat": 4,
 "nbformat_minor": 5
}
